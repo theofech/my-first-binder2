#%% Test

import matplotlib.pyplot as plt

fig, ax = plt.subplots()
ax.broken_barh([(0, 30)], (10, 5), facecolors='#aabbcc',edgecolors='black',linewidth=1)
ax.broken_barh([(0, 30)], (15, 5), facecolors='#aabbcc',edgecolors='black',linewidth=1)
ax.broken_barh([(0, 30)], (12, 5), facecolors='#aaeecc',edgecolors='black',linewidth=1)
ax.broken_barh([(1000,150)],(200, 127.748224041213), facecolors='#aabbcc',edgecolors='black',linewidth=1)
ax.broken_barh([(1000,150)],( 327.748224041213, 70.4373419349036), facecolors=(0.1, 0.2, 0.5),edgecolors='black',linewidth=1)
ax.broken_barh([(1000,150)],( 398.185565976117, 91.6864116068522), facecolors='#aabbcc',edgecolors='black',linewidth=1)
ax.broken_barh([(1000,150)],( 489.871977582969, 83.3430301245046), facecolors='#aabbcc',edgecolors='black',linewidth=1)
ax.broken_barh([(1000,150)],( 573.215007707474, 20.8357575311261), facecolors='#aabbcc',edgecolors='black',linewidth=1)
ax.broken_barh([(1000,150)],( 594.0507652386, 185.773131494083), facecolors='#aabbcc',edgecolors='black',linewidth=1)
ax.broken_barh([(1000,150)],( 779.823896732683, 4.60752658065482), facecolors='#aabbcc',edgecolors='black',linewidth=1)
ax.broken_barh([(1000,150)],( 784.431423313338, 1.15188164516372), facecolors='#aabbcc',edgecolors='black',linewidth=1)
ax.broken_barh([(1000,150)],( 785.583304958502, 20.3275245110574), facecolors='#aabbcc',edgecolors='black',linewidth=1)
ax.broken_barh([(1000,150)],(900,0), facecolors='#aabbcc',edgecolors='black',linewidth=1)
ax.broken_barh([(1000,150)],(900,0), facecolors='#aabbcc',edgecolors='black',linewidth=1)
ax.broken_barh([(1000,150)],( 896.410156988745, 3.58984301125458), facecolors='#aabbcc',edgecolors='black',linewidth=1)
ax.broken_barh([(1000,150)],( 805.910829469559, 7.17888546716812), facecolors='#aabbcc',edgecolors='black',linewidth=1)
ax.broken_barh([(1000,150)],( 813.089714936727, 9.27862317806236), facecolors='#aabbcc',edgecolors='black',linewidth=1)
ax.broken_barh([(1000,150)],( 822.36833811479, 20.4043834766821), facecolors='#aabbcc',edgecolors='black',linewidth=1)
ax.broken_barh([(1000,150)],( 842.772721591472, .11464468213099), facecolors='#aabbcc',edgecolors='black',linewidth=1)
ax.broken_barh([(1000,150)],( 842.887366273603, .242537202054805), facecolors='#aabbcc',edgecolors='black',linewidth=1)
ax.broken_barh([(1000,150)],( 843.129903475658, 53.2802535130881), facecolors='#aabbcc',edgecolors='black',linewidth=1)


#ax.broken_barh([(10, 50), (100, 20), (130, 10)], (20, 9),facecolors=('#aabbcc'))

ax.set_ylim(200, 900)
ax.set_xlim(500,1650)
#ax.set_xlabel('seconds since start')
#ax.set_yticks([15, 25])
#ax.set_yticklabels(['Bill', 'Jim'])
#ax.grid(True)
#ax.annotate('race interrupted', (61, 25),            xytext=(0.8, 0.9), textcoords='axes fraction',            arrowprops=dict(facecolor='black', shrink=0.05),            fontsize=16,            horizontalalignment='right', verticalalignment='top')
plt.axis('off')
plt.show()
