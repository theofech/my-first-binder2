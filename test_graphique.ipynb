{
 "metadata": {
  "language_info": {
   "codemirror_mode": {
    "name": "ipython",
    "version": 3
   },
   "file_extension": ".py",
   "mimetype": "text/x-python",
   "name": "python",
   "nbconvert_exporter": "python",
   "pygments_lexer": "ipython3",
   "version": "3.9.1-final"
  },
  "orig_nbformat": 2,
  "kernelspec": {
   "name": "python3",
   "display_name": "Python 3.9.1 64-bit",
   "metadata": {
    "interpreter": {
     "hash": "9f48ac3bcdd961e68aab9516ef8034d3f65b01c41028295b109cc983ad0327cf"
    }
   }
  }
 },
 "nbformat": 4,
 "nbformat_minor": 2,
 "cells": [
  {
   "cell_type": "code",
   "execution_count": 25,
   "metadata": {},
   "outputs": [
    {
     "output_type": "display_data",
     "data": {
      "text/plain": "<Figure size 432x288 with 1 Axes>",
      "image/svg+xml": "<?xml version=\"1.0\" encoding=\"utf-8\" standalone=\"no\"?>\r\n<!DOCTYPE svg PUBLIC \"-//W3C//DTD SVG 1.1//EN\"\r\n  \"http://www.w3.org/Graphics/SVG/1.1/DTD/svg11.dtd\">\r\n<!-- Created with matplotlib (https://matplotlib.org/) -->\r\n<svg height=\"231.84pt\" version=\"1.1\" viewBox=\"0 0 349.2 231.84\" width=\"349.2pt\" xmlns=\"http://www.w3.org/2000/svg\" xmlns:xlink=\"http://www.w3.org/1999/xlink\">\r\n <metadata>\r\n  <rdf:RDF xmlns:cc=\"http://creativecommons.org/ns#\" xmlns:dc=\"http://purl.org/dc/elements/1.1/\" xmlns:rdf=\"http://www.w3.org/1999/02/22-rdf-syntax-ns#\">\r\n   <cc:Work>\r\n    <dc:type rdf:resource=\"http://purl.org/dc/dcmitype/StillImage\"/>\r\n    <dc:date>2021-03-17T09:55:53.777843</dc:date>\r\n    <dc:format>image/svg+xml</dc:format>\r\n    <dc:creator>\r\n     <cc:Agent>\r\n      <dc:title>Matplotlib v3.3.4, https://matplotlib.org/</dc:title>\r\n     </cc:Agent>\r\n    </dc:creator>\r\n   </cc:Work>\r\n  </rdf:RDF>\r\n </metadata>\r\n <defs>\r\n  <style type=\"text/css\">*{stroke-linecap:butt;stroke-linejoin:round;}</style>\r\n </defs>\r\n <g id=\"figure_1\">\r\n  <g id=\"patch_1\">\r\n   <path d=\"M 0 231.84 \r\nL 349.2 231.84 \r\nL 349.2 0 \r\nL 0 0 \r\nz\r\n\" style=\"fill:none;\"/>\r\n  </g>\r\n  <g id=\"axes_1\">\r\n   <g id=\"BrokenBarHCollection_1\">\r\n    <defs>\r\n     <path d=\"M -138.365217 51.819429 \r\nL -138.365217 50.266286 \r\nL -129.631304 50.266286 \r\nL -129.631304 51.819429 \r\nL -138.365217 51.819429 \r\nz\r\n\" id=\"m22bc1f14f4\" style=\"stroke:#000000;\"/>\r\n    </defs>\r\n    <g clip-path=\"url(#pbf16427e82)\">\r\n     <use style=\"fill:#aabbcc;stroke:#000000;\" x=\"0\" xlink:href=\"#m22bc1f14f4\" y=\"231.84\"/>\r\n    </g>\r\n   </g>\r\n   <g id=\"BrokenBarHCollection_2\">\r\n    <defs>\r\n     <path d=\"M -138.365217 50.266286 \r\nL -138.365217 48.713143 \r\nL -129.631304 48.713143 \r\nL -129.631304 50.266286 \r\nL -138.365217 50.266286 \r\nz\r\n\" id=\"m69b2b3691b\" style=\"stroke:#000000;\"/>\r\n    </defs>\r\n    <g clip-path=\"url(#pbf16427e82)\">\r\n     <use style=\"fill:#aabbcc;stroke:#000000;\" x=\"0\" xlink:href=\"#m69b2b3691b\" y=\"231.84\"/>\r\n    </g>\r\n   </g>\r\n   <g id=\"BrokenBarHCollection_3\">\r\n    <defs>\r\n     <path d=\"M -138.365217 51.198171 \r\nL -138.365217 49.645029 \r\nL -129.631304 49.645029 \r\nL -129.631304 51.198171 \r\nL -138.365217 51.198171 \r\nz\r\n\" id=\"m83056da62c\" style=\"stroke:#000000;\"/>\r\n    </defs>\r\n    <g clip-path=\"url(#pbf16427e82)\">\r\n     <use style=\"fill:#aaeecc;stroke:#000000;\" x=\"0\" xlink:href=\"#m83056da62c\" y=\"231.84\"/>\r\n    </g>\r\n   </g>\r\n   <g id=\"BrokenBarHCollection_4\">\r\n    <defs>\r\n     <path d=\"M 152.765217 -7.2 \r\nL 152.765217 -46.882248 \r\nL 196.434783 -46.882248 \r\nL 196.434783 -7.2 \r\nL 152.765217 -7.2 \r\nz\r\n\" id=\"m0c119362dc\" style=\"stroke:#000000;\"/>\r\n    </defs>\r\n    <g clip-path=\"url(#pbf16427e82)\">\r\n     <use style=\"fill:#aabbcc;stroke:#000000;\" x=\"0\" xlink:href=\"#m0c119362dc\" y=\"231.84\"/>\r\n    </g>\r\n   </g>\r\n   <g id=\"BrokenBarHCollection_5\">\r\n    <defs>\r\n     <path d=\"M 152.765217 -46.882248 \r\nL 152.765217 -68.762099 \r\nL 196.434783 -68.762099 \r\nL 196.434783 -46.882248 \r\nL 152.765217 -46.882248 \r\nz\r\n\" id=\"mbd2864b5de\" style=\"stroke:#000000;\"/>\r\n    </defs>\r\n    <g clip-path=\"url(#pbf16427e82)\">\r\n     <use style=\"fill:#1a3380;stroke:#000000;\" x=\"0\" xlink:href=\"#mbd2864b5de\" y=\"231.84\"/>\r\n    </g>\r\n   </g>\r\n   <g id=\"BrokenBarHCollection_6\">\r\n    <defs>\r\n     <path d=\"M 152.765217 -68.762099 \r\nL 152.765217 -97.242518 \r\nL 196.434783 -97.242518 \r\nL 196.434783 -68.762099 \r\nL 152.765217 -68.762099 \r\nz\r\n\" id=\"m3f3d375cc1\" style=\"stroke:#000000;\"/>\r\n    </defs>\r\n    <g clip-path=\"url(#pbf16427e82)\">\r\n     <use style=\"fill:#aabbcc;stroke:#000000;\" x=\"0\" xlink:href=\"#m3f3d375cc1\" y=\"231.84\"/>\r\n    </g>\r\n   </g>\r\n   <g id=\"BrokenBarHCollection_7\">\r\n    <defs>\r\n     <path d=\"M 152.765217 -97.242518 \r\nL 152.765217 -123.131245 \r\nL 196.434783 -123.131245 \r\nL 196.434783 -97.242518 \r\nL 152.765217 -97.242518 \r\nz\r\n\" id=\"m12c8c176b0\" style=\"stroke:#000000;\"/>\r\n    </defs>\r\n    <g clip-path=\"url(#pbf16427e82)\">\r\n     <use style=\"fill:#aabbcc;stroke:#000000;\" x=\"0\" xlink:href=\"#m12c8c176b0\" y=\"231.84\"/>\r\n    </g>\r\n   </g>\r\n   <g id=\"BrokenBarHCollection_8\">\r\n    <defs>\r\n     <path d=\"M 152.765217 -123.131245 \r\nL 152.765217 -129.603426 \r\nL 196.434783 -129.603426 \r\nL 196.434783 -123.131245 \r\nL 152.765217 -123.131245 \r\nz\r\n\" id=\"m2db8756a17\" style=\"stroke:#000000;\"/>\r\n    </defs>\r\n    <g clip-path=\"url(#pbf16427e82)\">\r\n     <use style=\"fill:#aabbcc;stroke:#000000;\" x=\"0\" xlink:href=\"#m2db8756a17\" y=\"231.84\"/>\r\n    </g>\r\n   </g>\r\n   <g id=\"BrokenBarHCollection_9\">\r\n    <defs>\r\n     <path d=\"M 152.765217 -129.603426 \r\nL 152.765217 -187.309869 \r\nL 196.434783 -187.309869 \r\nL 196.434783 -129.603426 \r\nL 152.765217 -129.603426 \r\nz\r\n\" id=\"me7ff2adfbf\" style=\"stroke:#000000;\"/>\r\n    </defs>\r\n    <g clip-path=\"url(#pbf16427e82)\">\r\n     <use style=\"fill:#aabbcc;stroke:#000000;\" x=\"0\" xlink:href=\"#me7ff2adfbf\" y=\"231.84\"/>\r\n    </g>\r\n   </g>\r\n   <g id=\"BrokenBarHCollection_10\">\r\n    <defs>\r\n     <path d=\"M 152.765217 -187.309869 \r\nL 152.765217 -188.741098 \r\nL 196.434783 -188.741098 \r\nL 196.434783 -187.309869 \r\nL 152.765217 -187.309869 \r\nz\r\n\" id=\"m831e5d9674\" style=\"stroke:#000000;\"/>\r\n    </defs>\r\n    <g clip-path=\"url(#pbf16427e82)\">\r\n     <use style=\"fill:#aabbcc;stroke:#000000;\" x=\"0\" xlink:href=\"#m831e5d9674\" y=\"231.84\"/>\r\n    </g>\r\n   </g>\r\n   <g id=\"BrokenBarHCollection_11\">\r\n    <defs>\r\n     <path d=\"M 152.765217 -188.741098 \r\nL 152.765217 -189.098905 \r\nL 196.434783 -189.098905 \r\nL 196.434783 -188.741098 \r\nL 152.765217 -188.741098 \r\nz\r\n\" id=\"m34ca472946\" style=\"stroke:#000000;\"/>\r\n    </defs>\r\n    <g clip-path=\"url(#pbf16427e82)\">\r\n     <use style=\"fill:#aabbcc;stroke:#000000;\" x=\"0\" xlink:href=\"#m34ca472946\" y=\"231.84\"/>\r\n    </g>\r\n   </g>\r\n   <g id=\"BrokenBarHCollection_12\">\r\n    <defs>\r\n     <path d=\"M 152.765217 -189.098905 \r\nL 152.765217 -195.413215 \r\nL 196.434783 -195.413215 \r\nL 196.434783 -189.098905 \r\nL 152.765217 -189.098905 \r\nz\r\n\" id=\"mbe68163bba\" style=\"stroke:#000000;\"/>\r\n    </defs>\r\n    <g clip-path=\"url(#pbf16427e82)\">\r\n     <use style=\"fill:#aabbcc;stroke:#000000;\" x=\"0\" xlink:href=\"#mbe68163bba\" y=\"231.84\"/>\r\n    </g>\r\n   </g>\r\n   <g id=\"BrokenBarHCollection_13\">\r\n    <defs>\r\n     <path d=\"M 152.765217 -224.64 \r\nL 152.765217 -224.64 \r\nL 196.434783 -224.64 \r\nL 196.434783 -224.64 \r\nL 152.765217 -224.64 \r\nz\r\n\" id=\"ma03bf28975\" style=\"stroke:#000000;\"/>\r\n    </defs>\r\n    <g clip-path=\"url(#pbf16427e82)\">\r\n     <use style=\"fill:#aabbcc;stroke:#000000;\" x=\"0\" xlink:href=\"#ma03bf28975\" y=\"231.84\"/>\r\n    </g>\r\n   </g>\r\n   <g id=\"BrokenBarHCollection_14\">\r\n    <g clip-path=\"url(#pbf16427e82)\">\r\n     <use style=\"fill:#aabbcc;stroke:#000000;\" x=\"0\" xlink:href=\"#ma03bf28975\" y=\"231.84\"/>\r\n    </g>\r\n   </g>\r\n   <g id=\"BrokenBarHCollection_15\">\r\n    <defs>\r\n     <path d=\"M 152.765217 -223.524892 \r\nL 152.765217 -224.64 \r\nL 196.434783 -224.64 \r\nL 196.434783 -223.524892 \r\nL 152.765217 -223.524892 \r\nz\r\n\" id=\"m7cf55b7580\" style=\"stroke:#000000;\"/>\r\n    </defs>\r\n    <g clip-path=\"url(#pbf16427e82)\">\r\n     <use style=\"fill:#aabbcc;stroke:#000000;\" x=\"0\" xlink:href=\"#m7cf55b7580\" y=\"231.84\"/>\r\n    </g>\r\n   </g>\r\n   <g id=\"BrokenBarHCollection_16\">\r\n    <defs>\r\n     <path d=\"M 152.765217 -195.413215 \r\nL 152.765217 -197.643182 \r\nL 196.434783 -197.643182 \r\nL 196.434783 -195.413215 \r\nL 152.765217 -195.413215 \r\nz\r\n\" id=\"md3fc40f991\" style=\"stroke:#000000;\"/>\r\n    </defs>\r\n    <g clip-path=\"url(#pbf16427e82)\">\r\n     <use style=\"fill:#aabbcc;stroke:#000000;\" x=\"0\" xlink:href=\"#md3fc40f991\" y=\"231.84\"/>\r\n    </g>\r\n   </g>\r\n   <g id=\"BrokenBarHCollection_17\">\r\n    <defs>\r\n     <path d=\"M 152.765217 -197.643182 \r\nL 152.765217 -200.525388 \r\nL 196.434783 -200.525388 \r\nL 196.434783 -197.643182 \r\nL 152.765217 -197.643182 \r\nz\r\n\" id=\"m00e126725a\" style=\"stroke:#000000;\"/>\r\n    </defs>\r\n    <g clip-path=\"url(#pbf16427e82)\">\r\n     <use style=\"fill:#aabbcc;stroke:#000000;\" x=\"0\" xlink:href=\"#m00e126725a\" y=\"231.84\"/>\r\n    </g>\r\n   </g>\r\n   <g id=\"BrokenBarHCollection_18\">\r\n    <defs>\r\n     <path d=\"M 152.765217 -200.525388 \r\nL 152.765217 -206.863572 \r\nL 196.434783 -206.863572 \r\nL 196.434783 -200.525388 \r\nL 152.765217 -200.525388 \r\nz\r\n\" id=\"mc4d5ecf53b\" style=\"stroke:#000000;\"/>\r\n    </defs>\r\n    <g clip-path=\"url(#pbf16427e82)\">\r\n     <use style=\"fill:#aabbcc;stroke:#000000;\" x=\"0\" xlink:href=\"#mc4d5ecf53b\" y=\"231.84\"/>\r\n    </g>\r\n   </g>\r\n   <g id=\"BrokenBarHCollection_19\">\r\n    <defs>\r\n     <path d=\"M 152.765217 -206.863572 \r\nL 152.765217 -206.899184 \r\nL 196.434783 -206.899184 \r\nL 196.434783 -206.863572 \r\nL 152.765217 -206.863572 \r\nz\r\n\" id=\"m8f0779b602\" style=\"stroke:#000000;\"/>\r\n    </defs>\r\n    <g clip-path=\"url(#pbf16427e82)\">\r\n     <use style=\"fill:#aabbcc;stroke:#000000;\" x=\"0\" xlink:href=\"#m8f0779b602\" y=\"231.84\"/>\r\n    </g>\r\n   </g>\r\n   <g id=\"BrokenBarHCollection_20\">\r\n    <defs>\r\n     <path d=\"M 152.765217 -206.899184 \r\nL 152.765217 -206.974523 \r\nL 196.434783 -206.974523 \r\nL 196.434783 -206.899184 \r\nL 152.765217 -206.899184 \r\nz\r\n\" id=\"mbbb017fb0c\" style=\"stroke:#000000;\"/>\r\n    </defs>\r\n    <g clip-path=\"url(#pbf16427e82)\">\r\n     <use style=\"fill:#aabbcc;stroke:#000000;\" x=\"0\" xlink:href=\"#mbbb017fb0c\" y=\"231.84\"/>\r\n    </g>\r\n   </g>\r\n   <g id=\"BrokenBarHCollection_21\">\r\n    <defs>\r\n     <path d=\"M 152.765217 -206.974523 \r\nL 152.765217 -223.524892 \r\nL 196.434783 -223.524892 \r\nL 196.434783 -206.974523 \r\nL 152.765217 -206.974523 \r\nz\r\n\" id=\"m3bd9f0cc67\" style=\"stroke:#000000;\"/>\r\n    </defs>\r\n    <g clip-path=\"url(#pbf16427e82)\">\r\n     <use style=\"fill:#aabbcc;stroke:#000000;\" x=\"0\" xlink:href=\"#m3bd9f0cc67\" y=\"231.84\"/>\r\n    </g>\r\n   </g>\r\n  </g>\r\n </g>\r\n <defs>\r\n  <clipPath id=\"pbf16427e82\">\r\n   <rect height=\"217.44\" width=\"334.8\" x=\"7.2\" y=\"7.2\"/>\r\n  </clipPath>\r\n </defs>\r\n</svg>\r\n",
      "image/png": "[encoded data removed]"
     },
     "metadata": {
      "needs_background": "light"
     }
    }
   ],
   "source": [
    "import matplotlib.pyplot as plt\n",
    "\n",
    "fig, ax = plt.subplots()\n",
    "ax.broken_barh([(0, 30)], (10, 5), facecolors='#aabbcc',edgecolors='black',linewidth=1)\n",
    "ax.broken_barh([(0, 30)], (15, 5), facecolors='#aabbcc',edgecolors='black',linewidth=1)\n",
    "ax.broken_barh([(0, 30)], (12, 5), facecolors='#aaeecc',edgecolors='black',linewidth=1)\n",
    "ax.broken_barh([(1000,150)],(200, 127.748224041213), facecolors='#aabbcc',edgecolors='black',linewidth=1)\n",
    "ax.broken_barh([(1000,150)],( 327.748224041213, 70.4373419349036), facecolors=(0.1, 0.2, 0.5),edgecolors='black',linewidth=1)\n",
    "ax.broken_barh([(1000,150)],( 398.185565976117, 91.6864116068522), facecolors='#aabbcc',edgecolors='black',linewidth=1)\n",
    "ax.broken_barh([(1000,150)],( 489.871977582969, 83.3430301245046), facecolors='#aabbcc',edgecolors='black',linewidth=1)\n",
    "ax.broken_barh([(1000,150)],( 573.215007707474, 20.8357575311261), facecolors='#aabbcc',edgecolors='black',linewidth=1)\n",
    "ax.broken_barh([(1000,150)],( 594.0507652386, 185.773131494083), facecolors='#aabbcc',edgecolors='black',linewidth=1)\n",
    "ax.broken_barh([(1000,150)],( 779.823896732683, 4.60752658065482), facecolors='#aabbcc',edgecolors='black',linewidth=1)\n",
    "ax.broken_barh([(1000,150)],( 784.431423313338, 1.15188164516372), facecolors='#aabbcc',edgecolors='black',linewidth=1)\n",
    "ax.broken_barh([(1000,150)],( 785.583304958502, 20.3275245110574), facecolors='#aabbcc',edgecolors='black',linewidth=1)\n",
    "ax.broken_barh([(1000,150)],(900,0), facecolors='#aabbcc',edgecolors='black',linewidth=1)\n",
    "ax.broken_barh([(1000,150)],(900,0), facecolors='#aabbcc',edgecolors='black',linewidth=1)\n",
    "ax.broken_barh([(1000,150)],( 896.410156988745, 3.58984301125458), facecolors='#aabbcc',edgecolors='black',linewidth=1)\n",
    "ax.broken_barh([(1000,150)],( 805.910829469559, 7.17888546716812), facecolors='#aabbcc',edgecolors='black',linewidth=1)\n",
    "ax.broken_barh([(1000,150)],( 813.089714936727, 9.27862317806236), facecolors='#aabbcc',edgecolors='black',linewidth=1)\n",
    "ax.broken_barh([(1000,150)],( 822.36833811479, 20.4043834766821), facecolors='#aabbcc',edgecolors='black',linewidth=1)\n",
    "ax.broken_barh([(1000,150)],( 842.772721591472, .11464468213099), facecolors='#aabbcc',edgecolors='black',linewidth=1)\n",
    "ax.broken_barh([(1000,150)],( 842.887366273603, .242537202054805), facecolors='#aabbcc',edgecolors='black',linewidth=1)\n",
    "ax.broken_barh([(1000,150)],( 843.129903475658, 53.2802535130881), facecolors='#aabbcc',edgecolors='black',linewidth=1)\n",
    "\n",
    "\n",
    "#ax.broken_barh([(10, 50), (100, 20), (130, 10)], (20, 9),facecolors=('#aabbcc'))\n",
    "\n",
    "ax.set_ylim(200, 900)\n",
    "ax.set_xlim(500,1650)\n",
    "#ax.set_xlabel('seconds since start')\n",
    "#ax.set_yticks([15, 25])\n",
    "#ax.set_yticklabels(['Bill', 'Jim'])\n",
    "#ax.grid(True)\n",
    "#ax.annotate('race interrupted', (61, 25),            xytext=(0.8, 0.9), textcoords='axes fraction',            arrowprops=dict(facecolor='black', shrink=0.05),            fontsize=16,            horizontalalignment='right', verticalalignment='top')\n",
    "plt.axis('off')\n",
    "plt.show()"
   ]
  },
  {
   "cell_type": "code",
   "execution_count": null,
   "metadata": {},
   "outputs": [],
   "source": []
  }
 ]
}